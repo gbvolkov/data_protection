{
 "cells": [
  {
   "cell_type": "code",
   "execution_count": 2,
   "id": "a62ebdae",
   "metadata": {},
   "outputs": [],
   "source": [
    "import tqdm as notebook_tqdm"
   ]
  },
  {
   "cell_type": "code",
   "execution_count": 4,
   "id": "60fdaded",
   "metadata": {},
   "outputs": [
    {
     "name": "stdout",
     "output_type": "stream",
     "text": [
      "{0: 'B-FIRST_NAME', 1: 'I-HOUSE', 2: 'U-FIRST_NAME', 3: 'L-FIRST_NAME', 4: 'B-CITY', 5: 'B-STREET', 6: 'L-DISTRICT', 7: 'U-REGION', 8: 'I-REGION', 9: 'U-LAST_NAME', 10: 'I-STREET', 11: 'U-CITY', 12: 'L-CITY', 13: 'U-HOUSE', 14: 'U-COUNTRY', 15: 'B-COUNTRY', 16: 'B-HOUSE', 17: 'L-MIDDLE_NAME', 18: 'L-COUNTRY', 19: 'B-MIDDLE_NAME', 20: 'B-DISTRICT', 21: 'U-MIDDLE_NAME', 22: 'O', 23: 'B-REGION', 24: 'U-STREET', 25: 'L-HOUSE', 26: 'U-DISTRICT', 27: 'L-STREET', 28: 'I-CITY', 29: 'L-REGION', 30: 'L-LAST_NAME', 31: 'I-COUNTRY', 32: 'I-LAST_NAME', 33: 'B-LAST_NAME'}\n"
     ]
    }
   ],
   "source": [
    "from transformers import AutoModelForTokenClassification\n",
    "\n",
    "model = AutoModelForTokenClassification.from_pretrained(\"Gherman/bert-base-NER-Russian\")\n",
    "labels = model.config.id2label  # словарь {0: \"O\", 1: \"B-PER\", 2: \"I-PER\", ...}\n",
    "print(labels)"
   ]
  }
 ],
 "metadata": {
  "kernelspec": {
   "display_name": ".venv",
   "language": "python",
   "name": "python3"
  },
  "language_info": {
   "codemirror_mode": {
    "name": "ipython",
    "version": 3
   },
   "file_extension": ".py",
   "mimetype": "text/x-python",
   "name": "python",
   "nbconvert_exporter": "python",
   "pygments_lexer": "ipython3",
   "version": "3.12.7"
  }
 },
 "nbformat": 4,
 "nbformat_minor": 5
}
